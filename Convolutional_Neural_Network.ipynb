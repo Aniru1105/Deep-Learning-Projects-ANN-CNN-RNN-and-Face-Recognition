{
 "cells": [
  {
   "cell_type": "code",
   "execution_count": 1,
   "id": "1824b4d6-c469-4090-9b54-683c21394eaa",
   "metadata": {},
   "outputs": [
    {
     "data": {
      "text/plain": [
       "'2.19.0'"
      ]
     },
     "execution_count": 1,
     "metadata": {},
     "output_type": "execute_result"
    }
   ],
   "source": [
    "# Importing libraries\n",
    "import tensorflow as tf \n",
    "from tensorflow.keras.preprocessing.image import ImageDataGenerator\n",
    "tf.__version__"
   ]
  },
  {
   "cell_type": "code",
   "execution_count": 2,
   "id": "1b7caa51-2ea4-41c4-a52c-8bb7dee4a3cd",
   "metadata": {},
   "outputs": [],
   "source": [
    "# data preprocessing :- "
   ]
  },
  {
   "cell_type": "code",
   "execution_count": 3,
   "id": "3e6ac93d-76fa-429f-af9a-181b92f722f6",
   "metadata": {},
   "outputs": [
    {
     "name": "stdout",
     "output_type": "stream",
     "text": [
      "Found 8000 images belonging to 2 classes.\n"
     ]
    }
   ],
   "source": [
    "# Training set preprocessing :( Image Augmentation):\n",
    "train_datagen = ImageDataGenerator(\n",
    "    rescale = 1./255,shear_range = 0.2 , zoom_range = 0.2 , horizontal_flip = True\n",
    ")\n",
    "training_set = train_datagen.flow_from_directory(\n",
    "    r\"D:\\study\\Deep learning\\2nd project\\archive (5)\\dataset\\training_set\",\n",
    "    target_size=(64, 64),\n",
    "    batch_size=32,\n",
    "    class_mode='binary'\n",
    ")"
   ]
  },
  {
   "cell_type": "code",
   "execution_count": 4,
   "id": "ce908db8-09c8-4827-80e7-b793baf09202",
   "metadata": {},
   "outputs": [
    {
     "name": "stdout",
     "output_type": "stream",
     "text": [
      "Found 2000 images belonging to 2 classes.\n"
     ]
    }
   ],
   "source": [
    "# Testing set preprocessing :\n",
    "test_datagen = ImageDataGenerator(rescale = 1./255)\n",
    "test_set = test_datagen.flow_from_directory(\n",
    "    r\"D:\\study\\Deep learning\\2nd project\\archive (5)\\dataset\\test_set\",\n",
    "    target_size=(64, 64),\n",
    "    batch_size=32,\n",
    "    class_mode='binary'\n",
    ")"
   ]
  },
  {
   "cell_type": "code",
   "execution_count": 5,
   "id": "51302e8d-cffa-430f-82d7-22ed4118313e",
   "metadata": {},
   "outputs": [],
   "source": [
    "# Building CNN architecture :-"
   ]
  },
  {
   "cell_type": "code",
   "execution_count": 6,
   "id": "4f394f71-bd9b-463a-97b9-3155f8dcd772",
   "metadata": {},
   "outputs": [],
   "source": [
    "# initialising cnn :-\n",
    "cnn = tf.keras.models.Sequential()"
   ]
  },
  {
   "cell_type": "code",
   "execution_count": 7,
   "id": "9ff7a2ec-15ae-424c-a3c1-fb872ef1d8b3",
   "metadata": {},
   "outputs": [
    {
     "name": "stderr",
     "output_type": "stream",
     "text": [
      "C:\\Users\\Anirudh Sharma\\AppData\\Local\\Programs\\Python\\Python311\\Lib\\site-packages\\keras\\src\\layers\\convolutional\\base_conv.py:113: UserWarning: Do not pass an `input_shape`/`input_dim` argument to a layer. When using Sequential models, prefer using an `Input(shape)` object as the first layer in the model instead.\n",
      "  super().__init__(activity_regularizer=activity_regularizer, **kwargs)\n"
     ]
    }
   ],
   "source": [
    "# convolutional layer :-\n",
    "cnn.add(tf.keras.layers.Conv2D(filters = 64 , kernel_size =3 , activation = 'relu' , input_shape = [64,64,3]))"
   ]
  },
  {
   "cell_type": "code",
   "execution_count": 8,
   "id": "bcd7b49d-76cf-4fc8-8f3f-697c6029934f",
   "metadata": {},
   "outputs": [],
   "source": [
    "# pooling:-\n",
    "cnn.add(tf.keras.layers.MaxPool2D(pool_size = 2 , strides = 2))"
   ]
  },
  {
   "cell_type": "code",
   "execution_count": 9,
   "id": "f128b993-dfc4-429c-8773-59112bfb7b45",
   "metadata": {},
   "outputs": [],
   "source": [
    "# 2nd layer :-\n",
    "cnn.add(tf.keras.layers.Conv2D(filters = 32 , kernel_size =3 , activation = 'relu' ))\n",
    "cnn.add(tf.keras.layers.MaxPool2D(pool_size = 2 , strides = 2))"
   ]
  },
  {
   "cell_type": "code",
   "execution_count": 10,
   "id": "8c43506f-fcab-40fe-be4f-e461f8eff13c",
   "metadata": {},
   "outputs": [],
   "source": [
    "# flattening :-\n",
    "cnn.add(tf.keras.layers.Flatten())"
   ]
  },
  {
   "cell_type": "code",
   "execution_count": 11,
   "id": "6d46bba6-045a-45e7-820e-007aab9d3976",
   "metadata": {},
   "outputs": [],
   "source": [
    "# The Fully connected layer \n",
    "cnn.add(tf.keras.layers.Dense(units = 128 , activation = 'relu'))"
   ]
  },
  {
   "cell_type": "code",
   "execution_count": 12,
   "id": "ff3f79a9-aed4-401d-b638-7cf7daaae3b1",
   "metadata": {},
   "outputs": [],
   "source": [
    "# output layer :-\n",
    "cnn.add(tf.keras.layers.Dense(units = 1 , activation = 'sigmoid'))"
   ]
  },
  {
   "cell_type": "code",
   "execution_count": 13,
   "id": "3939dfd1-cfc1-4f75-9b63-61fe21abbb28",
   "metadata": {},
   "outputs": [],
   "source": [
    "# training the netwrok :-"
   ]
  },
  {
   "cell_type": "code",
   "execution_count": 14,
   "id": "1048ce38-9230-4619-8bb3-d5f785e3b430",
   "metadata": {},
   "outputs": [],
   "source": [
    "# compile the cnn;-\n",
    "cnn.compile(optimizer = 'adam' , loss ='binary_crossentropy' , metrics =['accuracy'] )"
   ]
  },
  {
   "cell_type": "code",
   "execution_count": 15,
   "id": "d89cb097-2917-484d-aaac-ecae3dd9ee21",
   "metadata": {
    "scrolled": true
   },
   "outputs": [
    {
     "name": "stdout",
     "output_type": "stream",
     "text": [
      "Epoch 1/25\n"
     ]
    },
    {
     "name": "stderr",
     "output_type": "stream",
     "text": [
      "C:\\Users\\Anirudh Sharma\\AppData\\Local\\Programs\\Python\\Python311\\Lib\\site-packages\\keras\\src\\trainers\\data_adapters\\py_dataset_adapter.py:121: UserWarning: Your `PyDataset` class should call `super().__init__(**kwargs)` in its constructor. `**kwargs` can include `workers`, `use_multiprocessing`, `max_queue_size`. Do not pass these arguments to `fit()`, as they will be ignored.\n",
      "  self._warn_if_super_not_called()\n"
     ]
    },
    {
     "name": "stdout",
     "output_type": "stream",
     "text": [
      "\u001b[1m250/250\u001b[0m \u001b[32m━━━━━━━━━━━━━━━━━━━━\u001b[0m\u001b[37m\u001b[0m \u001b[1m29s\u001b[0m 110ms/step - accuracy: 0.5906 - loss: 0.6696 - val_accuracy: 0.6345 - val_loss: 0.6412\n",
      "Epoch 2/25\n",
      "\u001b[1m250/250\u001b[0m \u001b[32m━━━━━━━━━━━━━━━━━━━━\u001b[0m\u001b[37m\u001b[0m \u001b[1m28s\u001b[0m 111ms/step - accuracy: 0.6426 - loss: 0.6340 - val_accuracy: 0.6720 - val_loss: 0.6041\n",
      "Epoch 3/25\n",
      "\u001b[1m250/250\u001b[0m \u001b[32m━━━━━━━━━━━━━━━━━━━━\u001b[0m\u001b[37m\u001b[0m \u001b[1m27s\u001b[0m 110ms/step - accuracy: 0.6691 - loss: 0.6057 - val_accuracy: 0.7020 - val_loss: 0.5819\n",
      "Epoch 4/25\n",
      "\u001b[1m250/250\u001b[0m \u001b[32m━━━━━━━━━━━━━━━━━━━━\u001b[0m\u001b[37m\u001b[0m \u001b[1m28s\u001b[0m 113ms/step - accuracy: 0.7023 - loss: 0.5683 - val_accuracy: 0.6720 - val_loss: 0.6197\n",
      "Epoch 5/25\n",
      "\u001b[1m250/250\u001b[0m \u001b[32m━━━━━━━━━━━━━━━━━━━━\u001b[0m\u001b[37m\u001b[0m \u001b[1m28s\u001b[0m 111ms/step - accuracy: 0.7165 - loss: 0.5500 - val_accuracy: 0.7080 - val_loss: 0.5660\n",
      "Epoch 6/25\n",
      "\u001b[1m250/250\u001b[0m \u001b[32m━━━━━━━━━━━━━━━━━━━━\u001b[0m\u001b[37m\u001b[0m \u001b[1m28s\u001b[0m 112ms/step - accuracy: 0.7415 - loss: 0.5186 - val_accuracy: 0.7535 - val_loss: 0.5139\n",
      "Epoch 7/25\n",
      "\u001b[1m250/250\u001b[0m \u001b[32m━━━━━━━━━━━━━━━━━━━━\u001b[0m\u001b[37m\u001b[0m \u001b[1m27s\u001b[0m 109ms/step - accuracy: 0.7539 - loss: 0.4991 - val_accuracy: 0.7650 - val_loss: 0.5074\n",
      "Epoch 8/25\n",
      "\u001b[1m250/250\u001b[0m \u001b[32m━━━━━━━━━━━━━━━━━━━━\u001b[0m\u001b[37m\u001b[0m \u001b[1m28s\u001b[0m 111ms/step - accuracy: 0.7663 - loss: 0.4782 - val_accuracy: 0.7635 - val_loss: 0.5016\n",
      "Epoch 9/25\n",
      "\u001b[1m250/250\u001b[0m \u001b[32m━━━━━━━━━━━━━━━━━━━━\u001b[0m\u001b[37m\u001b[0m \u001b[1m27s\u001b[0m 108ms/step - accuracy: 0.7764 - loss: 0.4632 - val_accuracy: 0.7795 - val_loss: 0.4745\n",
      "Epoch 10/25\n",
      "\u001b[1m250/250\u001b[0m \u001b[32m━━━━━━━━━━━━━━━━━━━━\u001b[0m\u001b[37m\u001b[0m \u001b[1m28s\u001b[0m 113ms/step - accuracy: 0.7946 - loss: 0.4455 - val_accuracy: 0.7690 - val_loss: 0.5003\n",
      "Epoch 11/25\n",
      "\u001b[1m250/250\u001b[0m \u001b[32m━━━━━━━━━━━━━━━━━━━━\u001b[0m\u001b[37m\u001b[0m \u001b[1m29s\u001b[0m 114ms/step - accuracy: 0.8008 - loss: 0.4306 - val_accuracy: 0.7870 - val_loss: 0.4756\n",
      "Epoch 12/25\n",
      "\u001b[1m250/250\u001b[0m \u001b[32m━━━━━━━━━━━━━━━━━━━━\u001b[0m\u001b[37m\u001b[0m \u001b[1m26s\u001b[0m 102ms/step - accuracy: 0.8084 - loss: 0.4214 - val_accuracy: 0.7735 - val_loss: 0.4740\n",
      "Epoch 13/25\n",
      "\u001b[1m250/250\u001b[0m \u001b[32m━━━━━━━━━━━━━━━━━━━━\u001b[0m\u001b[37m\u001b[0m \u001b[1m25s\u001b[0m 100ms/step - accuracy: 0.8175 - loss: 0.3990 - val_accuracy: 0.7590 - val_loss: 0.5416\n",
      "Epoch 14/25\n",
      "\u001b[1m250/250\u001b[0m \u001b[32m━━━━━━━━━━━━━━━━━━━━\u001b[0m\u001b[37m\u001b[0m \u001b[1m25s\u001b[0m 99ms/step - accuracy: 0.8311 - loss: 0.3743 - val_accuracy: 0.7760 - val_loss: 0.5237\n",
      "Epoch 15/25\n",
      "\u001b[1m250/250\u001b[0m \u001b[32m━━━━━━━━━━━━━━━━━━━━\u001b[0m\u001b[37m\u001b[0m \u001b[1m25s\u001b[0m 99ms/step - accuracy: 0.8366 - loss: 0.3635 - val_accuracy: 0.7805 - val_loss: 0.5100\n",
      "Epoch 16/25\n",
      "\u001b[1m250/250\u001b[0m \u001b[32m━━━━━━━━━━━━━━━━━━━━\u001b[0m\u001b[37m\u001b[0m \u001b[1m25s\u001b[0m 100ms/step - accuracy: 0.8484 - loss: 0.3410 - val_accuracy: 0.7550 - val_loss: 0.5430\n",
      "Epoch 17/25\n",
      "\u001b[1m250/250\u001b[0m \u001b[32m━━━━━━━━━━━━━━━━━━━━\u001b[0m\u001b[37m\u001b[0m \u001b[1m26s\u001b[0m 104ms/step - accuracy: 0.8547 - loss: 0.3300 - val_accuracy: 0.7825 - val_loss: 0.5039\n",
      "Epoch 18/25\n",
      "\u001b[1m250/250\u001b[0m \u001b[32m━━━━━━━━━━━━━━━━━━━━\u001b[0m\u001b[37m\u001b[0m \u001b[1m25s\u001b[0m 100ms/step - accuracy: 0.8669 - loss: 0.3007 - val_accuracy: 0.7720 - val_loss: 0.5427\n",
      "Epoch 19/25\n",
      "\u001b[1m250/250\u001b[0m \u001b[32m━━━━━━━━━━━━━━━━━━━━\u001b[0m\u001b[37m\u001b[0m \u001b[1m25s\u001b[0m 100ms/step - accuracy: 0.8761 - loss: 0.2874 - val_accuracy: 0.7730 - val_loss: 0.5527\n",
      "Epoch 20/25\n",
      "\u001b[1m250/250\u001b[0m \u001b[32m━━━━━━━━━━━━━━━━━━━━\u001b[0m\u001b[37m\u001b[0m \u001b[1m25s\u001b[0m 101ms/step - accuracy: 0.8820 - loss: 0.2766 - val_accuracy: 0.7845 - val_loss: 0.5407\n",
      "Epoch 21/25\n",
      "\u001b[1m250/250\u001b[0m \u001b[32m━━━━━━━━━━━━━━━━━━━━\u001b[0m\u001b[37m\u001b[0m \u001b[1m25s\u001b[0m 100ms/step - accuracy: 0.9009 - loss: 0.2470 - val_accuracy: 0.7880 - val_loss: 0.5911\n",
      "Epoch 22/25\n",
      "\u001b[1m250/250\u001b[0m \u001b[32m━━━━━━━━━━━━━━━━━━━━\u001b[0m\u001b[37m\u001b[0m \u001b[1m25s\u001b[0m 100ms/step - accuracy: 0.8984 - loss: 0.2414 - val_accuracy: 0.7495 - val_loss: 0.6738\n",
      "Epoch 23/25\n",
      "\u001b[1m250/250\u001b[0m \u001b[32m━━━━━━━━━━━━━━━━━━━━\u001b[0m\u001b[37m\u001b[0m \u001b[1m25s\u001b[0m 99ms/step - accuracy: 0.9054 - loss: 0.2262 - val_accuracy: 0.7765 - val_loss: 0.6543\n",
      "Epoch 24/25\n",
      "\u001b[1m250/250\u001b[0m \u001b[32m━━━━━━━━━━━━━━━━━━━━\u001b[0m\u001b[37m\u001b[0m \u001b[1m25s\u001b[0m 100ms/step - accuracy: 0.9181 - loss: 0.2075 - val_accuracy: 0.7770 - val_loss: 0.6308\n",
      "Epoch 25/25\n",
      "\u001b[1m250/250\u001b[0m \u001b[32m━━━━━━━━━━━━━━━━━━━━\u001b[0m\u001b[37m\u001b[0m \u001b[1m25s\u001b[0m 100ms/step - accuracy: 0.9209 - loss: 0.1994 - val_accuracy: 0.7845 - val_loss: 0.6449\n"
     ]
    },
    {
     "data": {
      "text/plain": [
       "<keras.src.callbacks.history.History at 0x2e27ec11d50>"
      ]
     },
     "execution_count": 15,
     "metadata": {},
     "output_type": "execute_result"
    }
   ],
   "source": [
    "cnn.fit(x=training_set, validation_data = test_set, batch_size = 32 , epochs = 25 )"
   ]
  },
  {
   "cell_type": "code",
   "execution_count": 16,
   "id": "bd55ddfb-6184-4e52-97d0-032cec8b3b02",
   "metadata": {},
   "outputs": [
    {
     "name": "stdout",
     "output_type": "stream",
     "text": [
      "\u001b[1m1/1\u001b[0m \u001b[32m━━━━━━━━━━━━━━━━━━━━\u001b[0m\u001b[37m\u001b[0m \u001b[1m0s\u001b[0m 88ms/step\n"
     ]
    }
   ],
   "source": [
    "import numpy as np\n",
    "from keras.preprocessing import image \n",
    "test_image = image.load_img(r\"D:\\study\\Deep learning\\2nd project\\archive (5)\\dataset\\single_prediction\\cat_or_dog_2.jpg\",\n",
    "                           target_size = (64,64))\n",
    "test_image = image.img_to_array(test_image)\n",
    "test_image = np.expand_dims(test_image ,axis = 0 )\n",
    "result = cnn.predict(test_image)\n",
    "training_set.class_indices\n",
    "if result[0][0] == 1 :\n",
    "    prediction = \" It's a dog\"\n",
    "else :\n",
    "    prediction = \"it's a cat\""
   ]
  },
  {
   "cell_type": "code",
   "execution_count": 17,
   "id": "e649fccc-191b-4543-b8db-9818a384b665",
   "metadata": {},
   "outputs": [
    {
     "name": "stdout",
     "output_type": "stream",
     "text": [
      "it's a cat\n"
     ]
    }
   ],
   "source": [
    "print(prediction)"
   ]
  },
  {
   "cell_type": "code",
   "execution_count": null,
   "id": "93c62766-71a8-46bc-9d13-629169697183",
   "metadata": {},
   "outputs": [],
   "source": []
  }
 ],
 "metadata": {
  "kernelspec": {
   "display_name": "Python (TF 2.17)",
   "language": "python",
   "name": "tf-env"
  },
  "language_info": {
   "codemirror_mode": {
    "name": "ipython",
    "version": 3
   },
   "file_extension": ".py",
   "mimetype": "text/x-python",
   "name": "python",
   "nbconvert_exporter": "python",
   "pygments_lexer": "ipython3",
   "version": "3.11.2"
  }
 },
 "nbformat": 4,
 "nbformat_minor": 5
}
